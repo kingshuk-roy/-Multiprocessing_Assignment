{
  "nbformat": 4,
  "nbformat_minor": 0,
  "metadata": {
    "colab": {
      "provenance": []
    },
    "kernelspec": {
      "name": "python3",
      "display_name": "Python 3"
    },
    "language_info": {
      "name": "python"
    }
  },
  "cells": [
    {
      "cell_type": "code",
      "execution_count": null,
      "metadata": {
        "colab": {
          "base_uri": "https://localhost:8080/",
          "height": 35
        },
        "id": "8NcUWvchNh9Y",
        "outputId": "ca5c7b1a-e1c5-4623-b496-54d791dc753e"
      },
      "outputs": [
        {
          "output_type": "execute_result",
          "data": {
            "text/plain": [
              "'\\n. It will enable the breaking of applications into smaller threads that can run independently.'"
            ],
            "application/vnd.google.colaboratory.intrinsic+json": {
              "type": "string"
            }
          },
          "metadata": {},
          "execution_count": 1
        }
      ],
      "source": [
        "# Q1. What is multiprocessing in python? Why is it useful?\n",
        "\n",
        "'''\n",
        "Multiprocessing refers to the ability of a system to support more than one processor at the same time.\n",
        "Applications in a multiprocessing system are broken to smaller routines that run independently.\n",
        "The operating system allocates these threads to the processors improving performance of the system.'''\n",
        "\n",
        "'''\n",
        ". It will enable the breaking of applications into smaller threads that can run independently.'''\n"
      ]
    },
    {
      "cell_type": "code",
      "source": [
        "# Q2. What are the differences between multiprocessing and multithreading?\n",
        "\n",
        "'''\n",
        "Multiprocessing uses two or more CPUs to increase computing power, whereas multithreading uses a single process with multiple code segments to increase computing power.\n",
        "Multithreading focuses on generating computing threads from a single process, whereas multiprocessing increases computing power by adding CPUs.'''"
      ],
      "metadata": {
        "colab": {
          "base_uri": "https://localhost:8080/",
          "height": 53
        },
        "id": "rkIK3Y-LOlTc",
        "outputId": "cdc30c02-0d78-415a-bc07-d3ffb6de1b7d"
      },
      "execution_count": null,
      "outputs": [
        {
          "output_type": "execute_result",
          "data": {
            "text/plain": [
              "'\\nMultiprocessing uses two or more CPUs to increase computing power, whereas multithreading uses a single process with multiple code segments to increase computing power. \\nMultithreading focuses on generating computing threads from a single process, whereas multiprocessing increases computing power by adding CPUs.'"
            ],
            "application/vnd.google.colaboratory.intrinsic+json": {
              "type": "string"
            }
          },
          "metadata": {},
          "execution_count": 2
        }
      ]
    },
    {
      "cell_type": "code",
      "source": [
        "# Q3. Write a python code to create a process using the multiprocessing module.\n",
        "\n",
        "import multiprocessing\n",
        "\n",
        "def print_cube(num):\n",
        "\t\"\"\"\n",
        "\tfunction to print cube of given num\n",
        "\t\"\"\"\n",
        "\tprint(\"Cube: {}\".format(num * num * num))\n",
        "\n",
        "def print_square(num):\n",
        "\t\"\"\"\n",
        "\tfunction to print square of given num\n",
        "\t\"\"\"\n",
        "\tprint(\"Square: {}\".format(num * num))\n",
        "\n",
        "if __name__ == \"__main__\":\n",
        "\t# creating processes\n",
        "\tp1 = multiprocessing.Process(target=print_square, args=(10, ))\n",
        "\tp2 = multiprocessing.Process(target=print_cube, args=(10, ))\n",
        "\n",
        "\t# starting process 1\n",
        "\tp1.start()\n",
        "\t# starting process 2\n",
        "\tp2.start()\n",
        "\n",
        "\t# wait until process 1 is finished\n",
        "\tp1.join()\n",
        "\t# wait until process 2 is finished\n",
        "\tp2.join()\n",
        "\n",
        "\t# both processes finished\n",
        "\tprint(\"Done!\")\n"
      ],
      "metadata": {
        "colab": {
          "base_uri": "https://localhost:8080/"
        },
        "id": "-RoJrgaJO605",
        "outputId": "475a2e92-d0f1-42df-9b5e-114118a12df5"
      },
      "execution_count": null,
      "outputs": [
        {
          "output_type": "stream",
          "name": "stdout",
          "text": [
            "Square: 100\n",
            "Cube: 1000\n",
            "Done!\n"
          ]
        }
      ]
    },
    {
      "cell_type": "code",
      "source": [
        "# Q4. What is a multiprocessing pool in python? Why is it used?\n",
        "\n",
        "'''\n",
        "A multiprocessing pool in Python is a mechanism provided by the multiprocessing module to efficiently parallelize and distribute tasks across multiple processors or CPU cores.\n",
        " It enables concurrent execution of multiple processes to take advantage of the available hardware resources.\n",
        "\n",
        "A pool maintains a group of worker processes that can be assigned tasks from a task queue.\n",
        "The pool automatically manages the distribution of tasks among the workers, allowing for efficient utilization of the CPU cores.\n",
        " By using a pool, you can divide a large task into smaller subtasks and process them in parallel, potentially reducing the overall execution time.\n",
        "\n",
        "The multiprocessing pool is commonly used in scenarios where you have computationally intensive tasks that can be broken down into independent units of work, and you want to leverage parallelism to speed up the processing.\n",
        " It simplifies the implementation of parallel processing in Python and provides a high-level interface for managing the execution of multiple processes.'''"
      ],
      "metadata": {
        "id": "0ZbGe46sPWdW"
      },
      "execution_count": null,
      "outputs": []
    },
    {
      "cell_type": "code",
      "source": [
        "import multiprocessing\n",
        "\n",
        "print(\"Number of cpu : \", multiprocessing.cpu_count())"
      ],
      "metadata": {
        "colab": {
          "base_uri": "https://localhost:8080/"
        },
        "id": "FcNqiWP2Ppd9",
        "outputId": "67607848-18bc-4e61-a4cf-9ca12c138167"
      },
      "execution_count": null,
      "outputs": [
        {
          "output_type": "stream",
          "name": "stdout",
          "text": [
            "Number of cpu :  2\n"
          ]
        }
      ]
    },
    {
      "cell_type": "code",
      "source": [
        "# Q5. How can we create a pool of worker processes in python using the multiprocessing module?\n",
        "\n",
        "import multiprocessing\n",
        "\n",
        "# Step 4: Define the worker function\n",
        "def worker_function(input_data):\n",
        "    # Process the input_data and return the result\n",
        "    processed_data = input_data * 2  # Example processing: doubling the input\n",
        "    return processed_data\n",
        "\n",
        "if __name__ == '__main__':\n",
        "    # Step 2: Determine the number of worker processes\n",
        "    num_processes = 4\n",
        "\n",
        "    # Step 3: Create a Pool object\n",
        "    pool = multiprocessing.Pool(processes=num_processes)\n",
        "\n",
        "    # Step 5: Submit tasks to the worker processes\n",
        "    input_data = [1, 2, 3, 4, 5]  # Example input data\n",
        "    results = []\n",
        "    for data in input_data:\n",
        "        result = pool.apply_async(worker_function, (data,))\n",
        "        results.append(result)\n",
        "\n",
        "    # Step 8: Close the Pool to prevent new tasks\n",
        "    pool.close()\n",
        "\n",
        "    # Step 9: Wait for all tasks to complete\n",
        "    pool.join()\n",
        "\n",
        "    # Step 7: Retrieve the results\n",
        "    output = [result.get() for result in results]\n",
        "\n",
        "    # Print the results\n",
        "    print(output)\n"
      ],
      "metadata": {
        "colab": {
          "base_uri": "https://localhost:8080/"
        },
        "id": "aXzLHLiLPp1k",
        "outputId": "a52eba7a-ebc3-4f09-cc7f-9f542ec2d984"
      },
      "execution_count": 3,
      "outputs": [
        {
          "output_type": "stream",
          "name": "stdout",
          "text": [
            "[2, 4, 6, 8, 10]\n"
          ]
        }
      ]
    },
    {
      "cell_type": "code",
      "source": [
        "# Q6. Write a python program to create 4 processes, each process should print a different number using the multiprocessing module in python.\n",
        "\n",
        "\n",
        "import multiprocessing\n",
        "\n",
        "def print_number(num):\n",
        "    print(f\"Process {num}: This is number {num}.\")\n",
        "\n",
        "if __name__ == '__main__':\n",
        "    processes = []\n",
        "    for i in range(4):\n",
        "        p = multiprocessing.Process(target=print_number, args=(i+1,))\n",
        "        processes.append(p)\n",
        "        p.start()\n",
        "\n",
        "    for process in processes:\n",
        "        process.join()\n"
      ],
      "metadata": {
        "colab": {
          "base_uri": "https://localhost:8080/"
        },
        "id": "mx3P-2ErQf4Q",
        "outputId": "e45e5bcb-569f-4739-ae46-0e7ff335c994"
      },
      "execution_count": null,
      "outputs": [
        {
          "output_type": "stream",
          "name": "stdout",
          "text": [
            "Process 1: This is number 1.\n",
            "Process 2: This is number 2.\n",
            "Process 3: This is number 3.\n",
            "Process 4: This is number 4.\n"
          ]
        }
      ]
    }
  ]
}